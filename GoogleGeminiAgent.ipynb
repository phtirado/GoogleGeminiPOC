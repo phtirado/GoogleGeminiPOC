{
 "cells": [
  {
   "cell_type": "code",
   "execution_count": 172,
   "id": "09a8420f",
   "metadata": {},
   "outputs": [
    {
     "name": "stdout",
     "output_type": "stream",
     "text": [
      "Note: you may need to restart the kernel to use updated packages.\n"
     ]
    },
    {
     "name": "stderr",
     "output_type": "stream",
     "text": [
      "\n",
      "[notice] A new release of pip is available: 25.0.1 -> 25.1.1\n",
      "[notice] To update, run: python.exe -m pip install --upgrade pip\n"
     ]
    }
   ],
   "source": [
    "%pip install -q google-genai google-adk"
   ]
  },
  {
   "cell_type": "code",
   "execution_count": 173,
   "id": "03048f93",
   "metadata": {},
   "outputs": [],
   "source": [
    "import os\n",
    "from dotenv import load_dotenv\n",
    "\n",
    "load_dotenv()  # This loads variables from .env into the environment\n",
    "\n",
    "# Set your Google Gemini API key here\n",
    "api_key = os.getenv(\"GOOGLE_API_KEY\")"
   ]
  },
  {
   "cell_type": "code",
   "execution_count": 174,
   "id": "b606862c",
   "metadata": {},
   "outputs": [],
   "source": [
    "# Import necessary genai modules\n",
    "from google import genai\n",
    "\n",
    "client = genai.Client()\n",
    "\n",
    "from google.adk.agents import Agent  # Import Agent class from google.adk.agents\n",
    "from google.adk.runners import Runner  # Import Runner class from google.adk.runners\n",
    "from google.adk.sessions import InMemorySessionService  # Import in-memory session service for agent sessions\n",
    "from google.adk.tools import google_search  # Import Google search tool for agent use\n",
    "from google.genai import types  # Import types for creating content and parts\n",
    "from datetime import date  # Import date class for working with dates\n",
    "import warnings  # Import warnings module to handle warning messages\n",
    "\n",
    "warnings.filterwarnings(\"ignore\")  # Ignore all warning messages"
   ]
  },
  {
   "cell_type": "code",
   "execution_count": 175,
   "id": "525a55b1",
   "metadata": {},
   "outputs": [],
   "source": [
    "# Create an in-memory session service\n",
    "session_service = InMemorySessionService()\n",
    "\n",
    "# Helper function that sends a message to an agent via Runner and returns the final response\n",
    "async def call_agent(agent: Agent, message_text: str) -> str:\n",
    "    # Create a new session for the agent\n",
    "    session = await session_service.create_session(app_name=agent.name, user_id=\"user1\")\n",
    "    # Create a Runner instance with the agent and session service\n",
    "    runner = Runner(agent=agent, app_name=agent.name, session_service=session_service)\n",
    "    # Create content with the user's message\n",
    "    content = types.Content(role=\"user\", parts=[types.Part(text=message_text)])\n",
    "\n",
    "    final_response = \"\"\n",
    "    # iterate over the events returned by the runner\n",
    "    async for event in runner.run_async(user_id=\"user1\", session_id=session.id, new_message=content):\n",
    "        if event.is_final_response():\n",
    "          for part in event.content.parts:\n",
    "            if part.text is not None:\n",
    "              final_response += part.text\n",
    "              final_response += \"\\n\"\n",
    "    return final_response"
   ]
  },
  {
   "cell_type": "code",
   "execution_count": 176,
   "id": "f635cf44",
   "metadata": {},
   "outputs": [],
   "source": [
    "FAST_MODEL = \"gemini-2.0-flash\"\n",
    "STRONG_MODEL = \"gemini-2.5-pro-preview-tts\""
   ]
  },
  {
   "cell_type": "code",
   "execution_count": 177,
   "id": "0de65216",
   "metadata": {},
   "outputs": [],
   "source": [
    "import textwrap  # Import textwrap for formatting text output\n",
    "from IPython.display import display, Markdown  # Import display and Markdown for formatted output in notebooks\n",
    "\n",
    "# Helper function to display formatted text in Markdown in Colab\n",
    "def to_markdown(text):\n",
    "    text = text.replace('•', '  *')\n",
    "    return Markdown(textwrap.indent(text, '> ', predicate=lambda _: True))"
   ]
  },
  {
   "cell_type": "code",
   "execution_count": 178,
   "id": "bf9b8c72",
   "metadata": {},
   "outputs": [],
   "source": [
    "##########################################\n",
    "# --- Agent 1: News Searcher --- #\n",
    "##########################################\n",
    "async def agent_search(topic, today):\n",
    "    print(f\"Searching for the last 10 games of: {topic} with date: {today}\")\n",
    "    # Create an agent that will search for news on Google\n",
    "    if not topic or not today:\n",
    "        raise ValueError(\"Both 'topic' and 'today' must be provided.\")\n",
    "    searcher = Agent(\n",
    "        name=\"agent_search\",\n",
    "        model=FAST_MODEL,\n",
    "        instruction=\"\"\"\n",
    "        You are a soccer research assistant. Your task is to use the google_search tool\n",
    "        to retrieve the result of the last 10 official games of the soccer team informed below.\n",
    "        You should provide a table with the following columns: Date, Opponent, Result, and a column with L or W (Loss or Win).\n",
    "        \"\"\",\n",
    "        description=\"Agent that searches for the results of soccer games on Google\",\n",
    "        tools=[google_search]\n",
    "    )\n",
    "\n",
    "    entrance_agent_search = f\"Soccer team: {topic}\\nToday date: {today}\"\n",
    "\n",
    "    news = await call_agent(searcher, entrance_agent_search)\n",
    "    return news"
   ]
  },
  {
   "cell_type": "code",
   "execution_count": 179,
   "id": "d07252cc",
   "metadata": {},
   "outputs": [],
   "source": [
    "################################################\n",
    "# --- Agent 2: Post Percentage success --- #\n",
    "################################################\n",
    "async def agent_perc_success(topic, searched_releases):\n",
    "    planner = Agent(\n",
    "        name=\"agent_perc_success\",\n",
    "        model=FAST_MODEL,\n",
    "        # Insert the agent_perc_success Agent instructions #################################################\n",
    "        instruction=\"\"\"\n",
    "        You are a statistics expert. Your task is to analyze the results of the last 10 games\n",
    "        of the soccer team informed below and calculate the percentage of success.\n",
    "        The percentage of success is defined by the sum of number of wins multiplied by 3 \n",
    "        and the sum of number of draws multiplied by 1,\n",
    "        divided by the total number of games played multiplied by 3.\n",
    "        You should return the percentage of success in the format: \"The percentage of success is X%\".\n",
    "        \"\"\",\n",
    "        description=\"Agent that provide the percentage of success of the soccer team informed\",\n",
    "        tools=[google_search]\n",
    "    )\n",
    "\n",
    "    planner_agent_input = f\"Topic:{topic}\\nPercentage of success: {searched_releases}\"\n",
    "    # Runs the agent\n",
    "    post_plan = await call_agent(planner, planner_agent_input)\n",
    "    return post_plan"
   ]
  },
  {
   "cell_type": "code",
   "execution_count": 180,
   "id": "848a4c94",
   "metadata": {},
   "outputs": [
    {
     "name": "stdout",
     "output_type": "stream",
     "text": [
      "🚀 Starting the agent to get information of the last 10 games of soccer team 🚀\n",
      "Great! Let's create the post about news in Flamengo\n",
      "Searching for the last 10 games of: Flamengo with date: 09/06/2025\n",
      "\n",
      "--- Result of Agent 1 (Searcher of Games) ---\n",
      "\n"
     ]
    },
    {
     "data": {
      "text/markdown": [
       "> Okay, I will search for the results of the last 10 official games of Flamengo and present them in a table with the columns: Date, Opponent, Result, and L/W (Loss/Win).\n",
       "> \n",
       "> \n",
       "> Based on the search results, here's a table of Flamengo's last 10 official game results:\n",
       "> \n",
       "> | Date       | Opponent          | Result | L/W |\n",
       "> |------------|-------------------|--------|-----|\n",
       "> | 2025-06-01 | Fortaleza         | 5 - 0  | W   |\n",
       "> | 2025-05-28 | Deportivo Táchira  | 1 - 0  | W   |\n",
       "> | 2025-05-25 | Palmeiras         | 0 - 2  | W   |\n",
       "> | 2025-05-21 | Botafogo-PB       | 4 - 2  | W   |\n",
       "> | 2025-05-18 | Botafogo RJ       | 0 - 0  | D   |\n",
       "> | 2025-05-15 | LDU Quito         | 2 - 0  | W   |\n",
       "> | 2025-05-10 | Bahia             | 1 - 0  | W   |\n",
       "> | 2025-05-07 | Central Córdoba   | 1 - 1  | D   |\n",
       "> | 2025-05-04 | Cruzeiro          | 2 - 1  | L   |\n",
       "> | 2025-05-01 | Botafogo-PB       | 0 - 1  | W   |\n",
       "> \n",
       "> **Note:**\n",
       "> *   D stands for Draw.\n",
       "> \n"
      ],
      "text/plain": [
       "<IPython.core.display.Markdown object>"
      ]
     },
     "metadata": {},
     "output_type": "display_data"
    },
    {
     "name": "stdout",
     "output_type": "stream",
     "text": [
      "--------------------------------------------------------------\n",
      "\n",
      "--- 📝 Result of Agent 2 (Metrics for the results) ---\n",
      "\n"
     ]
    },
    {
     "data": {
      "text/markdown": [
       "> Based on the provided results, here's the calculation of Flamengo's percentage of success:\n",
       "> \n",
       "> *   **Wins:** 7\n",
       "> *   **Draws:** 2\n",
       "> *   **Losses:** 1\n",
       "> *   **Total Games:** 10\n",
       "> \n",
       "> Success Points: (7 Wins \\* 3 points/win) + (2 Draws \\* 1 point/draw) = 21 + 2 = 23\n",
       "> \n",
       "> Total Possible Points: 10 Games \\* 3 points/game = 30\n",
       "> \n",
       "> Percentage of Success: (23 / 30) \\* 100 = 76.67%\n",
       "> \n",
       "> The percentage of success is 76.67%.\n",
       "> \n"
      ],
      "text/plain": [
       "<IPython.core.display.Markdown object>"
      ]
     },
     "metadata": {},
     "output_type": "display_data"
    }
   ],
   "source": [
    "data_de_hoje = date.today().strftime(\"%d/%m/%Y\")\n",
    "\n",
    "print(\"🚀 Starting the agent to get information of the last 10 games of soccer team 🚀\")\n",
    "\n",
    "# --- Get the User Topic ---\n",
    "topico = input(\"❓ Please enter the name of the soccer team: \")\n",
    "\n",
    "# Insert agent system logic ################################################\n",
    "if not topico:\n",
    "    print(\"You forgot to enter the name of the soccer team!\")\n",
    "else:\n",
    "    print(f\"Great! Let's create the post about news in {topico}\")\n",
    "\n",
    "    search_games = await agent_search(topico, data_de_hoje)\n",
    "    print(\"\\n--- Result of Agent 1 (Searcher of Games) ---\\n\")\n",
    "    display(to_markdown(search_games))\n",
    "    print(\"--------------------------------------------------------------\")\n",
    "\n",
    "    post_results_metrics = await agent_perc_success(topico, search_games)\n",
    "    print(\"\\n--- 📝 Result of Agent 2 (Metrics for the results) ---\\n\")\n",
    "    display(to_markdown(post_results_metrics))\n"
   ]
  }
 ],
 "metadata": {
  "kernelspec": {
   "display_name": "Python 3",
   "language": "python",
   "name": "python3"
  },
  "language_info": {
   "codemirror_mode": {
    "name": "ipython",
    "version": 3
   },
   "file_extension": ".py",
   "mimetype": "text/x-python",
   "name": "python",
   "nbconvert_exporter": "python",
   "pygments_lexer": "ipython3",
   "version": "3.13.3"
  }
 },
 "nbformat": 4,
 "nbformat_minor": 5
}
