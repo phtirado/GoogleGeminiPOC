{
 "cells": [
  {
   "cell_type": "code",
   "execution_count": 20,
   "id": "9d9fa42e",
   "metadata": {},
   "outputs": [
    {
     "name": "stdout",
     "output_type": "stream",
     "text": [
      "Google Gemini API Key is set: True\n"
     ]
    }
   ],
   "source": [
    "import os\n",
    "from dotenv import load_dotenv\n",
    "\n",
    "load_dotenv()  # This loads variables from .env into the environment\n",
    "\n",
    "# Set your Google Gemini API key here\n",
    "api_key = os.getenv(\"GOOGLE_API_KEY\")\n",
    "print(f\"Google Gemini API Key is set: {bool(api_key)}\")\n"
   ]
  },
  {
   "cell_type": "code",
   "execution_count": 21,
   "id": "6c633b5d",
   "metadata": {},
   "outputs": [],
   "source": [
    "# Configure the Google Gemini client\n",
    "from google import genai\n",
    "\n",
    "client = genai.Client()\n",
    "\n",
    "MODEL_ID = \"gemini-2.0-flash\""
   ]
  },
  {
   "cell_type": "markdown",
   "id": "7540c170",
   "metadata": {},
   "source": []
  },
  {
   "cell_type": "code",
   "execution_count": 22,
   "id": "40da5ad2",
   "metadata": {},
   "outputs": [
    {
     "data": {
      "text/markdown": [
       "Answer:\n",
       " The last Brazilian soccer team to win the FIFA Club World Cup (which is generally considered the world championship for club teams) was **Corinthians** in **2012**. They defeated Chelsea 1-0 in the final.\n"
      ],
      "text/plain": [
       "<IPython.core.display.Markdown object>"
      ]
     },
     "metadata": {},
     "output_type": "display_data"
    }
   ],
   "source": [
    "# Import necessary libraries for displaying content in Jupyter Notebook\n",
    "from IPython.display import HTML, Markdown\n",
    "\n",
    "# Post a question to the Google Gemini model\n",
    "resposta = client.models.generate_content(\n",
    "    model=MODEL_ID,\n",
    "    contents='What is the last brazilian soccer team to win the world championship?',\n",
    ")\n",
    "\n",
    "# Display the response in a Jupyter Notebook\n",
    "display(Markdown(f\"Answer:\\n {resposta.text}\"))"
   ]
  }
 ],
 "metadata": {
  "kernelspec": {
   "display_name": "Python 3",
   "language": "python",
   "name": "python3"
  },
  "language_info": {
   "codemirror_mode": {
    "name": "ipython",
    "version": 3
   },
   "file_extension": ".py",
   "mimetype": "text/x-python",
   "name": "python",
   "nbconvert_exporter": "python",
   "pygments_lexer": "ipython3",
   "version": "3.13.3"
  }
 },
 "nbformat": 4,
 "nbformat_minor": 5
}
